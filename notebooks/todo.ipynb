{
 "cells": [
  {
   "cell_type": "markdown",
   "metadata": {},
   "source": [
    "The things left to add include:\n",
    "+ indication of the number of datapoints not shown, but that go into histogram\n",
    "+ numbers comparing the expected, achieved, and unmitigated\n",
    "+ add a notebook showing how to run on an entirely noiseless light curve (this will require a modification to the histogram plotting tools)\n"
   ]
  },
  {
   "cell_type": "code",
   "execution_count": null,
   "metadata": {},
   "outputs": [],
   "source": []
  }
 ],
 "metadata": {
  "kernelspec": {
   "display_name": "Python 3",
   "language": "python",
   "name": "python3"
  },
  "language_info": {
   "codemirror_mode": {
    "name": "ipython",
    "version": 3
   },
   "file_extension": ".py",
   "mimetype": "text/x-python",
   "name": "python",
   "nbconvert_exporter": "python",
   "pygments_lexer": "ipython3",
   "version": "3.6.2"
  }
 },
 "nbformat": 4,
 "nbformat_minor": 2
}
